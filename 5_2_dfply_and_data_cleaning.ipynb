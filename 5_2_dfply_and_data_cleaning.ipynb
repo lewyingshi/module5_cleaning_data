{
 "cells": [
  {
   "cell_type": "markdown",
   "metadata": {},
   "source": [
    "# Basic Data Frame Processing with `dfply`"
   ]
  },
  {
   "cell_type": "code",
   "execution_count": 1,
   "metadata": {},
   "outputs": [],
   "source": [
    "import pandas as pd\n",
    "import matplotlib.pylab as plt\n",
    "from dfply import *\n",
    "%matplotlib inline"
   ]
  },
  {
   "cell_type": "code",
   "execution_count": 2,
   "metadata": {},
   "outputs": [],
   "source": [
    "artists = pd.read_csv(\"./data/Artists.csv\")\n",
    "artwork = pd.read_csv(\"./data/Artworks.csv\")"
   ]
  },
  {
   "cell_type": "markdown",
   "metadata": {},
   "source": [
    "# Exploring and cleaning the MoMA data\n",
    "\n",
    "In the previous lecture, we identified some errors\n",
    "\n",
    "* Multiple instances of \"Nationality unknown\" in `artists.Nationality`\n",
    "* `artist.BeginDate` is 0 $\\rightarrow$ probably should be missing\n",
    "* Parentheses in `artwork.BeginDate`\n",
    "* Very large value in `artwork['Height (cm)']`\n",
    "\n",
    "In this section, we will illustrate exploring and cleaning up these data with `select`, `filter_by` and `mutate`"
   ]
  },
  {
   "cell_type": "markdown",
   "metadata": {},
   "source": [
    "## Renaming columns the `dfply` way\n",
    "\n",
    "* We use `rename` to rename columns as part of a pipe.\n",
    "* We can use `kwargs` to rename all columns at once"
   ]
  },
  {
   "cell_type": "code",
   "execution_count": 3,
   "metadata": {},
   "outputs": [
    {
     "data": {
      "text/html": [
       "<div>\n",
       "<style scoped>\n",
       "    .dataframe tbody tr th:only-of-type {\n",
       "        vertical-align: middle;\n",
       "    }\n",
       "\n",
       "    .dataframe tbody tr th {\n",
       "        vertical-align: top;\n",
       "    }\n",
       "\n",
       "    .dataframe thead th {\n",
       "        text-align: right;\n",
       "    }\n",
       "</style>\n",
       "<table border=\"1\" class=\"dataframe\">\n",
       "  <thead>\n",
       "    <tr style=\"text-align: right;\">\n",
       "      <th></th>\n",
       "      <th>ConstituentID</th>\n",
       "      <th>DisplayName</th>\n",
       "      <th>ArtistBio</th>\n",
       "      <th>Nationality</th>\n",
       "      <th>Gender</th>\n",
       "      <th>BeginDate</th>\n",
       "      <th>EndDate</th>\n",
       "      <th>Wiki_QID</th>\n",
       "      <th>ULAN</th>\n",
       "    </tr>\n",
       "  </thead>\n",
       "  <tbody>\n",
       "    <tr>\n",
       "      <th>0</th>\n",
       "      <td>1</td>\n",
       "      <td>Robert Arneson</td>\n",
       "      <td>American, 1930–1992</td>\n",
       "      <td>American</td>\n",
       "      <td>Male</td>\n",
       "      <td>1930</td>\n",
       "      <td>1992</td>\n",
       "      <td>NaN</td>\n",
       "      <td>NaN</td>\n",
       "    </tr>\n",
       "    <tr>\n",
       "      <th>1</th>\n",
       "      <td>2</td>\n",
       "      <td>Doroteo Arnaiz</td>\n",
       "      <td>Spanish, born 1936</td>\n",
       "      <td>Spanish</td>\n",
       "      <td>Male</td>\n",
       "      <td>1936</td>\n",
       "      <td>0</td>\n",
       "      <td>NaN</td>\n",
       "      <td>NaN</td>\n",
       "    </tr>\n",
       "    <tr>\n",
       "      <th>2</th>\n",
       "      <td>3</td>\n",
       "      <td>Bill Arnold</td>\n",
       "      <td>American, born 1941</td>\n",
       "      <td>American</td>\n",
       "      <td>Male</td>\n",
       "      <td>1941</td>\n",
       "      <td>0</td>\n",
       "      <td>NaN</td>\n",
       "      <td>NaN</td>\n",
       "    </tr>\n",
       "    <tr>\n",
       "      <th>3</th>\n",
       "      <td>4</td>\n",
       "      <td>Charles Arnoldi</td>\n",
       "      <td>American, born 1946</td>\n",
       "      <td>American</td>\n",
       "      <td>Male</td>\n",
       "      <td>1946</td>\n",
       "      <td>0</td>\n",
       "      <td>Q1063584</td>\n",
       "      <td>500027998.0</td>\n",
       "    </tr>\n",
       "    <tr>\n",
       "      <th>4</th>\n",
       "      <td>5</td>\n",
       "      <td>Per Arnoldi</td>\n",
       "      <td>Danish, born 1941</td>\n",
       "      <td>Danish</td>\n",
       "      <td>Male</td>\n",
       "      <td>1941</td>\n",
       "      <td>0</td>\n",
       "      <td>NaN</td>\n",
       "      <td>NaN</td>\n",
       "    </tr>\n",
       "  </tbody>\n",
       "</table>\n",
       "</div>"
      ],
      "text/plain": [
       "   ConstituentID      DisplayName            ArtistBio Nationality Gender  \\\n",
       "0              1   Robert Arneson  American, 1930–1992    American   Male   \n",
       "1              2   Doroteo Arnaiz   Spanish, born 1936     Spanish   Male   \n",
       "2              3      Bill Arnold  American, born 1941    American   Male   \n",
       "3              4  Charles Arnoldi  American, born 1946    American   Male   \n",
       "4              5      Per Arnoldi    Danish, born 1941      Danish   Male   \n",
       "\n",
       "   BeginDate  EndDate  Wiki_QID         ULAN  \n",
       "0       1930     1992       NaN          NaN  \n",
       "1       1936        0       NaN          NaN  \n",
       "2       1941        0       NaN          NaN  \n",
       "3       1946        0  Q1063584  500027998.0  \n",
       "4       1941        0       NaN          NaN  "
      ]
     },
     "execution_count": 3,
     "metadata": {},
     "output_type": "execute_result"
    }
   ],
   "source": [
    "artists_renamed = artists >>rename(Wiki_QID = 'Wiki QID')\n",
    "artists_renamed.head()"
   ]
  },
  {
   "cell_type": "markdown",
   "metadata": {},
   "source": [
    "## Renaming all the columns at once\n",
    "\n",
    "1. Make a translation dictionary\n",
    "2. Pass to `rename` by unpacking keywords with `**`"
   ]
  },
  {
   "cell_type": "markdown",
   "metadata": {},
   "source": [
    "## Step 1 - Translation dictionary\n",
    "\n",
    "* keys: New name\n",
    "* values: Old name"
   ]
  },
  {
   "cell_type": "code",
   "execution_count": 4,
   "metadata": {
    "scrolled": true
   },
   "outputs": [
    {
     "data": {
      "text/plain": [
       "{'Title': 'Title',\n",
       " 'Artist': 'Artist',\n",
       " 'ConstituentID': 'ConstituentID',\n",
       " 'ArtistBio': 'ArtistBio',\n",
       " 'Nationality': 'Nationality',\n",
       " 'BeginDate': 'BeginDate',\n",
       " 'EndDate': 'EndDate',\n",
       " 'Gender': 'Gender',\n",
       " 'Date': 'Date',\n",
       " 'Medium': 'Medium',\n",
       " 'Dimensions': 'Dimensions',\n",
       " 'CreditLine': 'CreditLine',\n",
       " 'AccessionNumber': 'AccessionNumber',\n",
       " 'Classification': 'Classification',\n",
       " 'Department': 'Department',\n",
       " 'DateAcquired': 'DateAcquired',\n",
       " 'Cataloged': 'Cataloged',\n",
       " 'ObjectID': 'ObjectID',\n",
       " 'URL': 'URL',\n",
       " 'ThumbnailURL': 'ThumbnailURL',\n",
       " 'Circumference_cm': 'Circumference (cm)',\n",
       " 'Depth_cm': 'Depth (cm)',\n",
       " 'Diameter_cm': 'Diameter (cm)',\n",
       " 'Height_cm': 'Height (cm)',\n",
       " 'Length_cm': 'Length (cm)',\n",
       " 'Weight_kg': 'Weight (kg)',\n",
       " 'Width_cm': 'Width (cm)',\n",
       " 'Seat_Height_cm': 'Seat Height (cm)',\n",
       " 'Duration_sec': 'Duration (sec.)'}"
      ]
     },
     "execution_count": 4,
     "metadata": {},
     "output_type": "execute_result"
    }
   ],
   "source": [
    "fix_col_name = lambda s: s.replace(' ', '_').replace('(', '').replace(')', '').replace('.', '')\n",
    "\n",
    "\n",
    "new_cols = {fix_col_name(name):name for name in artwork.columns}\n",
    "\n",
    "new_cols"
   ]
  },
  {
   "cell_type": "markdown",
   "metadata": {},
   "source": [
    "## Step 2 - Unpack in `rename` "
   ]
  },
  {
   "cell_type": "code",
   "execution_count": 5,
   "metadata": {
    "scrolled": true
   },
   "outputs": [
    {
     "data": {
      "text/plain": [
       "Index(['Title', 'Artist', 'ConstituentID', 'ArtistBio', 'Nationality',\n",
       "       'BeginDate', 'EndDate', 'Gender', 'Date', 'Medium', 'Dimensions',\n",
       "       'CreditLine', 'AccessionNumber', 'Classification', 'Department',\n",
       "       'DateAcquired', 'Cataloged', 'ObjectID', 'URL', 'ThumbnailURL',\n",
       "       'Circumference_cm', 'Depth_cm', 'Diameter_cm', 'Height_cm', 'Length_cm',\n",
       "       'Weight_kg', 'Width_cm', 'Seat_Height_cm', 'Duration_sec'],\n",
       "      dtype='object')"
      ]
     },
     "execution_count": 5,
     "metadata": {},
     "output_type": "execute_result"
    }
   ],
   "source": [
    "artwork_renamed = (artwork >>\n",
    "                     rename(**new_cols))\n",
    "artwork_renamed.columns"
   ]
  },
  {
   "cell_type": "markdown",
   "metadata": {},
   "source": [
    "## OR use `more_dfply.fix_names`\n",
    "\n",
    "Fix names removes all punctuation"
   ]
  },
  {
   "cell_type": "code",
   "execution_count": 6,
   "metadata": {
    "scrolled": true
   },
   "outputs": [
    {
     "data": {
      "text/plain": [
       "Index(['Title', 'Artist', 'ConstituentID', 'ArtistBio', 'Nationality',\n",
       "       'BeginDate', 'EndDate', 'Gender', 'Date', 'Medium', 'Dimensions',\n",
       "       'CreditLine', 'AccessionNumber', 'Classification', 'Department',\n",
       "       'DateAcquired', 'Cataloged', 'ObjectID', 'URL', 'ThumbnailURL',\n",
       "       'Circumference_cm', 'Depth_cm', 'Diameter_cm', 'Height_cm', 'Length_cm',\n",
       "       'Weight_kg', 'Width_cm', 'Seat_Height_cm', 'Duration_sec'],\n",
       "      dtype='object')"
      ]
     },
     "execution_count": 6,
     "metadata": {},
     "output_type": "execute_result"
    }
   ],
   "source": [
    "from more_dfply import fix_names\n",
    "artwork_renamed = (artwork >> fix_names)\n",
    "artwork_renamed.columns"
   ]
  },
  {
   "cell_type": "markdown",
   "metadata": {},
   "source": [
    "## Example 1 - Problems with `artist.Nationality`"
   ]
  },
  {
   "cell_type": "code",
   "execution_count": 7,
   "metadata": {},
   "outputs": [
    {
     "data": {
      "text/plain": [
       "American       5194\n",
       "German          969\n",
       "British         854\n",
       "French          848\n",
       "Italian         539\n",
       "               ... \n",
       "Persian           1\n",
       "Sahrawi           1\n",
       "Sudanese          1\n",
       "Azerbaijani       1\n",
       "Ivorian           1\n",
       "Name: Nationality, Length: 118, dtype: int64"
      ]
     },
     "execution_count": 7,
     "metadata": {},
     "output_type": "execute_result"
    }
   ],
   "source": [
    "artists_renamed.Nationality.value_counts()"
   ]
  },
  {
   "cell_type": "code",
   "execution_count": 8,
   "metadata": {},
   "outputs": [
    {
     "data": {
      "text/plain": [
       "Index(['American', 'German', 'British', 'French', 'Italian', 'Japanese',\n",
       "       'Swiss', 'Dutch', 'Russian', 'Austrian',\n",
       "       ...\n",
       "       'Salvadoran', 'Sierra Leonean', 'Guyanese', 'Beninese', 'Cypriot',\n",
       "       'Persian', 'Sahrawi', 'Sudanese', 'Azerbaijani', 'Ivorian'],\n",
       "      dtype='object', length=118)"
      ]
     },
     "execution_count": 8,
     "metadata": {},
     "output_type": "execute_result"
    }
   ],
   "source": [
    "artists_renamed.Nationality.value_counts().index"
   ]
  },
  {
   "cell_type": "code",
   "execution_count": 9,
   "metadata": {
    "scrolled": true
   },
   "outputs": [
    {
     "data": {
      "text/plain": [
       "[('American', 5194),\n",
       " ('German', 969),\n",
       " ('British', 854),\n",
       " ('French', 848),\n",
       " ('Italian', 539),\n",
       " ('Japanese', 509),\n",
       " ('Swiss', 294),\n",
       " ('Dutch', 277),\n",
       " ('Russian', 267),\n",
       " ('Austrian', 242),\n",
       " ('Canadian', 193),\n",
       " ('Nationality unknown', 180),\n",
       " ('Brazilian', 163),\n",
       " ('Spanish', 160),\n",
       " ('Argentine', 140),\n",
       " ('Polish', 130),\n",
       " ('Swedish', 130),\n",
       " ('Mexican', 129),\n",
       " ('Danish', 119),\n",
       " ('Belgian', 93),\n",
       " ('Chinese', 80),\n",
       " ('Czech', 78),\n",
       " ('Israeli', 74),\n",
       " ('Chilean', 72),\n",
       " ('South African', 68),\n",
       " ('Cuban', 63),\n",
       " ('Finnish', 61),\n",
       " ('Venezuelan', 60),\n",
       " ('Australian', 55),\n",
       " ('Colombian', 54),\n",
       " ('Hungarian', 53),\n",
       " ('Norwegian', 47),\n",
       " ('Indian', 38),\n",
       " ('Peruvian', 37),\n",
       " ('Korean', 34),\n",
       " ('Croatian', 27),\n",
       " ('Uruguayan', 24),\n",
       " ('Yugoslav', 23),\n",
       " ('Irish', 22),\n",
       " ('Turkish', 22),\n",
       " ('Scottish', 20),\n",
       " ('Romanian', 20),\n",
       " ('New Zealander', 17),\n",
       " ('Haitian', 16),\n",
       " ('Portuguese', 13),\n",
       " ('Icelandic', 12),\n",
       " ('Greek', 12),\n",
       " ('Iranian', 11),\n",
       " ('Ukrainian', 11),\n",
       " ('Serbian', 11),\n",
       " ('Slovenian', 9),\n",
       " ('Egyptian', 8),\n",
       " ('Bosnian', 8),\n",
       " ('Slovak', 8),\n",
       " ('Guatemalan', 7),\n",
       " ('Lebanese', 7),\n",
       " ('Czechoslovakian', 6),\n",
       " ('Congolese', 6),\n",
       " ('Puerto Rican', 5),\n",
       " ('Zimbabwean', 5),\n",
       " ('Palestinian', 5),\n",
       " ('Vietnamese', 5),\n",
       " ('Moroccan', 5),\n",
       " ('Macedonian', 5),\n",
       " ('Taiwanese', 5),\n",
       " ('Algerian', 5),\n",
       " ('Georgian', 5),\n",
       " ('Bulgarian', 5),\n",
       " ('Pakistani', 4),\n",
       " ('Ecuadorian', 4),\n",
       " ('Nigerian', 4),\n",
       " ('Native American', 4),\n",
       " ('Albanian', 3),\n",
       " ('Lithuanian', 3),\n",
       " ('Thai', 3),\n",
       " ('Canadian Inuit', 3),\n",
       " ('Bolivian', 3),\n",
       " ('Estonian', 3),\n",
       " ('Malaysian', 3),\n",
       " ('Luxembourgish', 3),\n",
       " ('Filipino', 3),\n",
       " ('Costa Rican', 2),\n",
       " ('Kyrgyzstani', 2),\n",
       " ('Namibian', 2),\n",
       " ('Paraguayan', 2),\n",
       " ('Panamanian', 2),\n",
       " ('Emirati', 2),\n",
       " ('Ghanaian', 2),\n",
       " ('Nicaraguan', 2),\n",
       " ('Latvian', 2),\n",
       " ('Kenyan', 2),\n",
       " ('Senegalese', 2),\n",
       " ('Tunisian', 2),\n",
       " ('Welsh', 2),\n",
       " ('Singaporean', 2),\n",
       " ('Malian', 2),\n",
       " ('Ethiopian', 2),\n",
       " ('Coptic', 1),\n",
       " ('Burkinabe', 1),\n",
       " ('Bahamian', 1),\n",
       " ('Bangladeshi', 1),\n",
       " ('Cambodian', 1),\n",
       " ('Afghan', 1),\n",
       " ('Kuwaiti', 1),\n",
       " ('Tanzanian', 1),\n",
       " ('Catalan', 1),\n",
       " ('Cameroonian', 1),\n",
       " ('Ugandan', 1),\n",
       " ('Salvadoran', 1),\n",
       " ('Sierra Leonean', 1),\n",
       " ('Guyanese', 1),\n",
       " ('Beninese', 1),\n",
       " ('Cypriot', 1),\n",
       " ('Persian', 1),\n",
       " ('Sahrawi', 1),\n",
       " ('Sudanese', 1),\n",
       " ('Azerbaijani', 1),\n",
       " ('Ivorian', 1)]"
      ]
     },
     "execution_count": 9,
     "metadata": {},
     "output_type": "execute_result"
    }
   ],
   "source": [
    "[tup for tup in zip(artists.Nationality.value_counts().index, artists.Nationality.value_counts())]"
   ]
  },
  {
   "cell_type": "code",
   "execution_count": 10,
   "metadata": {},
   "outputs": [
    {
     "data": {
      "text/html": [
       "<div>\n",
       "<style scoped>\n",
       "    .dataframe tbody tr th:only-of-type {\n",
       "        vertical-align: middle;\n",
       "    }\n",
       "\n",
       "    .dataframe tbody tr th {\n",
       "        vertical-align: top;\n",
       "    }\n",
       "\n",
       "    .dataframe thead th {\n",
       "        text-align: right;\n",
       "    }\n",
       "</style>\n",
       "<table border=\"1\" class=\"dataframe\">\n",
       "  <thead>\n",
       "    <tr style=\"text-align: right;\">\n",
       "      <th></th>\n",
       "      <th>ConstituentID</th>\n",
       "      <th>DisplayName</th>\n",
       "      <th>ArtistBio</th>\n",
       "      <th>Nationality</th>\n",
       "      <th>Gender</th>\n",
       "      <th>BeginDate</th>\n",
       "      <th>EndDate</th>\n",
       "      <th>Wiki_QID</th>\n",
       "      <th>ULAN</th>\n",
       "    </tr>\n",
       "  </thead>\n",
       "  <tbody>\n",
       "    <tr>\n",
       "      <th>14</th>\n",
       "      <td>18</td>\n",
       "      <td>Artko</td>\n",
       "      <td>NaN</td>\n",
       "      <td>NaN</td>\n",
       "      <td>NaN</td>\n",
       "      <td>0</td>\n",
       "      <td>0</td>\n",
       "      <td>NaN</td>\n",
       "      <td>NaN</td>\n",
       "    </tr>\n",
       "    <tr>\n",
       "      <th>90</th>\n",
       "      <td>101</td>\n",
       "      <td>Album-miscellaneous</td>\n",
       "      <td>Various</td>\n",
       "      <td>NaN</td>\n",
       "      <td>NaN</td>\n",
       "      <td>0</td>\n",
       "      <td>0</td>\n",
       "      <td>NaN</td>\n",
       "      <td>NaN</td>\n",
       "    </tr>\n",
       "    <tr>\n",
       "      <th>173</th>\n",
       "      <td>201</td>\n",
       "      <td>Aoki Toshio</td>\n",
       "      <td>NaN</td>\n",
       "      <td>NaN</td>\n",
       "      <td>NaN</td>\n",
       "      <td>0</td>\n",
       "      <td>0</td>\n",
       "      <td>NaN</td>\n",
       "      <td>NaN</td>\n",
       "    </tr>\n",
       "    <tr>\n",
       "      <th>462</th>\n",
       "      <td>525</td>\n",
       "      <td>Palme Berthold</td>\n",
       "      <td>NaN</td>\n",
       "      <td>NaN</td>\n",
       "      <td>NaN</td>\n",
       "      <td>0</td>\n",
       "      <td>0</td>\n",
       "      <td>NaN</td>\n",
       "      <td>NaN</td>\n",
       "    </tr>\n",
       "    <tr>\n",
       "      <th>977</th>\n",
       "      <td>1102</td>\n",
       "      <td>Chikuchi Toshio</td>\n",
       "      <td>NaN</td>\n",
       "      <td>NaN</td>\n",
       "      <td>NaN</td>\n",
       "      <td>0</td>\n",
       "      <td>0</td>\n",
       "      <td>NaN</td>\n",
       "      <td>NaN</td>\n",
       "    </tr>\n",
       "    <tr>\n",
       "      <th>...</th>\n",
       "      <td>...</td>\n",
       "      <td>...</td>\n",
       "      <td>...</td>\n",
       "      <td>...</td>\n",
       "      <td>...</td>\n",
       "      <td>...</td>\n",
       "      <td>...</td>\n",
       "      <td>...</td>\n",
       "      <td>...</td>\n",
       "    </tr>\n",
       "    <tr>\n",
       "      <th>15201</th>\n",
       "      <td>132427</td>\n",
       "      <td>Krasnyi proletarii</td>\n",
       "      <td>NaN</td>\n",
       "      <td>NaN</td>\n",
       "      <td>NaN</td>\n",
       "      <td>0</td>\n",
       "      <td>0</td>\n",
       "      <td>NaN</td>\n",
       "      <td>NaN</td>\n",
       "    </tr>\n",
       "    <tr>\n",
       "      <th>15214</th>\n",
       "      <td>132956</td>\n",
       "      <td>Matthew Wong</td>\n",
       "      <td>Canadian, 1984 - 2019</td>\n",
       "      <td>NaN</td>\n",
       "      <td>NaN</td>\n",
       "      <td>0</td>\n",
       "      <td>0</td>\n",
       "      <td>NaN</td>\n",
       "      <td>NaN</td>\n",
       "    </tr>\n",
       "    <tr>\n",
       "      <th>15216</th>\n",
       "      <td>133005</td>\n",
       "      <td>Chesnutt Brothers Studio</td>\n",
       "      <td>NaN</td>\n",
       "      <td>NaN</td>\n",
       "      <td>NaN</td>\n",
       "      <td>0</td>\n",
       "      <td>0</td>\n",
       "      <td>NaN</td>\n",
       "      <td>NaN</td>\n",
       "    </tr>\n",
       "    <tr>\n",
       "      <th>15220</th>\n",
       "      <td>133027</td>\n",
       "      <td>Studio of Dr. Paul Wolff &amp; Tritschler</td>\n",
       "      <td>NaN</td>\n",
       "      <td>NaN</td>\n",
       "      <td>NaN</td>\n",
       "      <td>0</td>\n",
       "      <td>0</td>\n",
       "      <td>NaN</td>\n",
       "      <td>NaN</td>\n",
       "    </tr>\n",
       "    <tr>\n",
       "      <th>15221</th>\n",
       "      <td>133038</td>\n",
       "      <td>Hamburgrer Frobelspiel-Handlung, Herm. Evers</td>\n",
       "      <td>NaN</td>\n",
       "      <td>NaN</td>\n",
       "      <td>NaN</td>\n",
       "      <td>0</td>\n",
       "      <td>0</td>\n",
       "      <td>NaN</td>\n",
       "      <td>NaN</td>\n",
       "    </tr>\n",
       "  </tbody>\n",
       "</table>\n",
       "<p>2452 rows × 9 columns</p>\n",
       "</div>"
      ],
      "text/plain": [
       "       ConstituentID                                   DisplayName  \\\n",
       "14                18                                         Artko   \n",
       "90               101                           Album-miscellaneous   \n",
       "173              201                                   Aoki Toshio   \n",
       "462              525                                Palme Berthold   \n",
       "977             1102                               Chikuchi Toshio   \n",
       "...              ...                                           ...   \n",
       "15201         132427                            Krasnyi proletarii   \n",
       "15214         132956                                  Matthew Wong   \n",
       "15216         133005                      Chesnutt Brothers Studio   \n",
       "15220         133027         Studio of Dr. Paul Wolff & Tritschler   \n",
       "15221         133038  Hamburgrer Frobelspiel-Handlung, Herm. Evers   \n",
       "\n",
       "                   ArtistBio Nationality Gender  BeginDate  EndDate Wiki_QID  \\\n",
       "14                       NaN         NaN    NaN          0        0      NaN   \n",
       "90                   Various         NaN    NaN          0        0      NaN   \n",
       "173                      NaN         NaN    NaN          0        0      NaN   \n",
       "462                      NaN         NaN    NaN          0        0      NaN   \n",
       "977                      NaN         NaN    NaN          0        0      NaN   \n",
       "...                      ...         ...    ...        ...      ...      ...   \n",
       "15201                    NaN         NaN    NaN          0        0      NaN   \n",
       "15214  Canadian, 1984 - 2019         NaN    NaN          0        0      NaN   \n",
       "15216                    NaN         NaN    NaN          0        0      NaN   \n",
       "15220                    NaN         NaN    NaN          0        0      NaN   \n",
       "15221                    NaN         NaN    NaN          0        0      NaN   \n",
       "\n",
       "       ULAN  \n",
       "14      NaN  \n",
       "90      NaN  \n",
       "173     NaN  \n",
       "462     NaN  \n",
       "977     NaN  \n",
       "...     ...  \n",
       "15201   NaN  \n",
       "15214   NaN  \n",
       "15216   NaN  \n",
       "15220   NaN  \n",
       "15221   NaN  \n",
       "\n",
       "[2452 rows x 9 columns]"
      ]
     },
     "execution_count": 10,
     "metadata": {},
     "output_type": "execute_result"
    }
   ],
   "source": [
    "(artists_renamed\n",
    ">> filter_by(X.Nationality.isnull())\n",
    ")"
   ]
  },
  {
   "cell_type": "markdown",
   "metadata": {},
   "source": [
    "### <font color=\"red\"> Question </font>\n",
    "\n",
    "Is it ok to have both `Nationality unknown` and `NaN`?  What would you do if your answer was no?"
   ]
  },
  {
   "cell_type": "markdown",
   "metadata": {},
   "source": [
    "## Example 2 - Zeros $\\rightarrow$ `np.Nan`\n",
    "\n",
    "Recall that `artists.BeginDate` had lots of zeros"
   ]
  },
  {
   "cell_type": "code",
   "execution_count": 11,
   "metadata": {
    "scrolled": false
   },
   "outputs": [
    {
     "data": {
      "text/plain": [
       "<matplotlib.axes._subplots.AxesSubplot at 0x11ffb6290>"
      ]
     },
     "execution_count": 11,
     "metadata": {},
     "output_type": "execute_result"
    },
    {
     "data": {
      "image/png": "[encoded data removed]",
      "text/plain": [
       "<Figure size 432x288 with 1 Axes>"
      ]
     },
     "metadata": {
      "needs_background": "light"
     },
     "output_type": "display_data"
    }
   ],
   "source": [
    "import matplotlib.pylab as plt\n",
    "artists_renamed.BeginDate.plot(kind='hist', bins = 50)"
   ]
  },
  {
   "cell_type": "markdown",
   "metadata": {},
   "source": [
    "## Cases with `BeginDate != 0`\n",
    "\n",
    "Start by looking at the correct cases.  Take note of the `ArtistBio`"
   ]
  },
  {
   "cell_type": "code",
   "execution_count": 12,
   "metadata": {},
   "outputs": [
    {
     "data": {
      "text/html": [
       "<div>\n",
       "<style scoped>\n",
       "    .dataframe tbody tr th:only-of-type {\n",
       "        vertical-align: middle;\n",
       "    }\n",
       "\n",
       "    .dataframe tbody tr th {\n",
       "        vertical-align: top;\n",
       "    }\n",
       "\n",
       "    .dataframe thead th {\n",
       "        text-align: right;\n",
       "    }\n",
       "</style>\n",
       "<table border=\"1\" class=\"dataframe\">\n",
       "  <thead>\n",
       "    <tr style=\"text-align: right;\">\n",
       "      <th></th>\n",
       "      <th>ConstituentID</th>\n",
       "      <th>DisplayName</th>\n",
       "      <th>ArtistBio</th>\n",
       "      <th>Nationality</th>\n",
       "      <th>Gender</th>\n",
       "      <th>BeginDate</th>\n",
       "      <th>EndDate</th>\n",
       "      <th>Wiki_QID</th>\n",
       "      <th>ULAN</th>\n",
       "    </tr>\n",
       "  </thead>\n",
       "  <tbody>\n",
       "    <tr>\n",
       "      <th>0</th>\n",
       "      <td>1</td>\n",
       "      <td>Robert Arneson</td>\n",
       "      <td>American, 1930–1992</td>\n",
       "      <td>American</td>\n",
       "      <td>Male</td>\n",
       "      <td>1930</td>\n",
       "      <td>1992</td>\n",
       "      <td>NaN</td>\n",
       "      <td>NaN</td>\n",
       "    </tr>\n",
       "    <tr>\n",
       "      <th>1</th>\n",
       "      <td>2</td>\n",
       "      <td>Doroteo Arnaiz</td>\n",
       "      <td>Spanish, born 1936</td>\n",
       "      <td>Spanish</td>\n",
       "      <td>Male</td>\n",
       "      <td>1936</td>\n",
       "      <td>0</td>\n",
       "      <td>NaN</td>\n",
       "      <td>NaN</td>\n",
       "    </tr>\n",
       "    <tr>\n",
       "      <th>2</th>\n",
       "      <td>3</td>\n",
       "      <td>Bill Arnold</td>\n",
       "      <td>American, born 1941</td>\n",
       "      <td>American</td>\n",
       "      <td>Male</td>\n",
       "      <td>1941</td>\n",
       "      <td>0</td>\n",
       "      <td>NaN</td>\n",
       "      <td>NaN</td>\n",
       "    </tr>\n",
       "    <tr>\n",
       "      <th>3</th>\n",
       "      <td>4</td>\n",
       "      <td>Charles Arnoldi</td>\n",
       "      <td>American, born 1946</td>\n",
       "      <td>American</td>\n",
       "      <td>Male</td>\n",
       "      <td>1946</td>\n",
       "      <td>0</td>\n",
       "      <td>Q1063584</td>\n",
       "      <td>500027998.0</td>\n",
       "    </tr>\n",
       "    <tr>\n",
       "      <th>4</th>\n",
       "      <td>5</td>\n",
       "      <td>Per Arnoldi</td>\n",
       "      <td>Danish, born 1941</td>\n",
       "      <td>Danish</td>\n",
       "      <td>Male</td>\n",
       "      <td>1941</td>\n",
       "      <td>0</td>\n",
       "      <td>NaN</td>\n",
       "      <td>NaN</td>\n",
       "    </tr>\n",
       "  </tbody>\n",
       "</table>\n",
       "</div>"
      ],
      "text/plain": [
       "   ConstituentID      DisplayName            ArtistBio Nationality Gender  \\\n",
       "0              1   Robert Arneson  American, 1930–1992    American   Male   \n",
       "1              2   Doroteo Arnaiz   Spanish, born 1936     Spanish   Male   \n",
       "2              3      Bill Arnold  American, born 1941    American   Male   \n",
       "3              4  Charles Arnoldi  American, born 1946    American   Male   \n",
       "4              5      Per Arnoldi    Danish, born 1941      Danish   Male   \n",
       "\n",
       "   BeginDate  EndDate  Wiki_QID         ULAN  \n",
       "0       1930     1992       NaN          NaN  \n",
       "1       1936        0       NaN          NaN  \n",
       "2       1941        0       NaN          NaN  \n",
       "3       1946        0  Q1063584  500027998.0  \n",
       "4       1941        0       NaN          NaN  "
      ]
     },
     "execution_count": 12,
     "metadata": {},
     "output_type": "execute_result"
    }
   ],
   "source": [
    "(artists_renamed >>\n",
    "  filter_by(X.BeginDate != 0) >>\n",
    "  head(5))"
   ]
  },
  {
   "cell_type": "markdown",
   "metadata": {},
   "source": [
    "## Cases with `BeginDate == 0`\n",
    "\n",
    "Note the date in the `ArtistBio` $\\rightarrow$ pretty clear this is missing data"
   ]
  },
  {
   "cell_type": "code",
   "execution_count": 13,
   "metadata": {},
   "outputs": [
    {
     "data": {
      "text/html": [
       "<div>\n",
       "<style scoped>\n",
       "    .dataframe tbody tr th:only-of-type {\n",
       "        vertical-align: middle;\n",
       "    }\n",
       "\n",
       "    .dataframe tbody tr th {\n",
       "        vertical-align: top;\n",
       "    }\n",
       "\n",
       "    .dataframe thead th {\n",
       "        text-align: right;\n",
       "    }\n",
       "</style>\n",
       "<table border=\"1\" class=\"dataframe\">\n",
       "  <thead>\n",
       "    <tr style=\"text-align: right;\">\n",
       "      <th></th>\n",
       "      <th>ConstituentID</th>\n",
       "      <th>DisplayName</th>\n",
       "      <th>ArtistBio</th>\n",
       "      <th>Nationality</th>\n",
       "      <th>Gender</th>\n",
       "      <th>BeginDate</th>\n",
       "      <th>EndDate</th>\n",
       "      <th>Wiki_QID</th>\n",
       "      <th>ULAN</th>\n",
       "    </tr>\n",
       "  </thead>\n",
       "  <tbody>\n",
       "    <tr>\n",
       "      <th>14</th>\n",
       "      <td>18</td>\n",
       "      <td>Artko</td>\n",
       "      <td>NaN</td>\n",
       "      <td>NaN</td>\n",
       "      <td>NaN</td>\n",
       "      <td>0</td>\n",
       "      <td>0</td>\n",
       "      <td>NaN</td>\n",
       "      <td>NaN</td>\n",
       "    </tr>\n",
       "    <tr>\n",
       "      <th>17</th>\n",
       "      <td>22</td>\n",
       "      <td>Isidora Aschheim</td>\n",
       "      <td>Israeli</td>\n",
       "      <td>Israeli</td>\n",
       "      <td>Female</td>\n",
       "      <td>0</td>\n",
       "      <td>0</td>\n",
       "      <td>NaN</td>\n",
       "      <td>NaN</td>\n",
       "    </tr>\n",
       "    <tr>\n",
       "      <th>26</th>\n",
       "      <td>32</td>\n",
       "      <td>Atelier Eggers</td>\n",
       "      <td>French</td>\n",
       "      <td>French</td>\n",
       "      <td>NaN</td>\n",
       "      <td>0</td>\n",
       "      <td>0</td>\n",
       "      <td>NaN</td>\n",
       "      <td>NaN</td>\n",
       "    </tr>\n",
       "    <tr>\n",
       "      <th>27</th>\n",
       "      <td>33</td>\n",
       "      <td>A.A.P.</td>\n",
       "      <td>American</td>\n",
       "      <td>American</td>\n",
       "      <td>NaN</td>\n",
       "      <td>0</td>\n",
       "      <td>0</td>\n",
       "      <td>NaN</td>\n",
       "      <td>NaN</td>\n",
       "    </tr>\n",
       "    <tr>\n",
       "      <th>47</th>\n",
       "      <td>55</td>\n",
       "      <td>Norman Ackroyd</td>\n",
       "      <td>British</td>\n",
       "      <td>British</td>\n",
       "      <td>Male</td>\n",
       "      <td>0</td>\n",
       "      <td>0</td>\n",
       "      <td>Q7051892</td>\n",
       "      <td>500029028.0</td>\n",
       "    </tr>\n",
       "  </tbody>\n",
       "</table>\n",
       "</div>"
      ],
      "text/plain": [
       "    ConstituentID       DisplayName ArtistBio Nationality  Gender  BeginDate  \\\n",
       "14             18             Artko       NaN         NaN     NaN          0   \n",
       "17             22  Isidora Aschheim   Israeli     Israeli  Female          0   \n",
       "26             32    Atelier Eggers    French      French     NaN          0   \n",
       "27             33            A.A.P.  American    American     NaN          0   \n",
       "47             55    Norman Ackroyd   British     British    Male          0   \n",
       "\n",
       "    EndDate  Wiki_QID         ULAN  \n",
       "14        0       NaN          NaN  \n",
       "17        0       NaN          NaN  \n",
       "26        0       NaN          NaN  \n",
       "27        0       NaN          NaN  \n",
       "47        0  Q7051892  500029028.0  "
      ]
     },
     "execution_count": 13,
     "metadata": {},
     "output_type": "execute_result"
    }
   ],
   "source": [
    "(artists_renamed >>\n",
    "  filter_by(X.BeginDate == 0) >>\n",
    "  head(5))"
   ]
  },
  {
   "cell_type": "markdown",
   "metadata": {},
   "source": [
    "## The solution: Replace 0 with `np.NaN`"
   ]
  },
  {
   "cell_type": "code",
   "execution_count": 14,
   "metadata": {},
   "outputs": [],
   "source": [
    "replace_zero = {0:np.NaN}\n",
    "artists_new = (artists_renamed >>\n",
    "                mutate(BeginDate = X.BeginDate.replace(replace_zero)))"
   ]
  },
  {
   "cell_type": "markdown",
   "metadata": {},
   "source": [
    "## Verify that it works"
   ]
  },
  {
   "cell_type": "code",
   "execution_count": 15,
   "metadata": {
    "scrolled": false
   },
   "outputs": [
    {
     "data": {
      "text/html": [
       "<div>\n",
       "<style scoped>\n",
       "    .dataframe tbody tr th:only-of-type {\n",
       "        vertical-align: middle;\n",
       "    }\n",
       "\n",
       "    .dataframe tbody tr th {\n",
       "        vertical-align: top;\n",
       "    }\n",
       "\n",
       "    .dataframe thead th {\n",
       "        text-align: right;\n",
       "    }\n",
       "</style>\n",
       "<table border=\"1\" class=\"dataframe\">\n",
       "  <thead>\n",
       "    <tr style=\"text-align: right;\">\n",
       "      <th></th>\n",
       "      <th>ConstituentID</th>\n",
       "      <th>DisplayName</th>\n",
       "      <th>ArtistBio</th>\n",
       "      <th>Nationality</th>\n",
       "      <th>Gender</th>\n",
       "      <th>BeginDate</th>\n",
       "      <th>EndDate</th>\n",
       "      <th>Wiki_QID</th>\n",
       "      <th>ULAN</th>\n",
       "    </tr>\n",
       "  </thead>\n",
       "  <tbody>\n",
       "  </tbody>\n",
       "</table>\n",
       "</div>"
      ],
      "text/plain": [
       "Empty DataFrame\n",
       "Columns: [ConstituentID, DisplayName, ArtistBio, Nationality, Gender, BeginDate, EndDate, Wiki_QID, ULAN]\n",
       "Index: []"
      ]
     },
     "execution_count": 15,
     "metadata": {},
     "output_type": "execute_result"
    }
   ],
   "source": [
    "(artists_new >>\n",
    "  filter_by(X.BeginDate == 0) >>\n",
    "  head(5))"
   ]
  },
  {
   "cell_type": "code",
   "execution_count": 16,
   "metadata": {
    "scrolled": false
   },
   "outputs": [
    {
     "data": {
      "text/plain": [
       "<matplotlib.axes._subplots.AxesSubplot at 0x120afd4d0>"
      ]
     },
     "execution_count": 16,
     "metadata": {},
     "output_type": "execute_result"
    },
    {
     "data": {
      "image/png": "[encoded data removed]",
      "text/plain": [
       "<Figure size 432x288 with 1 Axes>"
      ]
     },
     "metadata": {
      "needs_background": "light"
     },
     "output_type": "display_data"
    }
   ],
   "source": [
    "artists_new.BeginDate.plot(kind='hist', bins = 50)"
   ]
  },
  {
   "cell_type": "markdown",
   "metadata": {},
   "source": [
    "## Next Up\n",
    "\n",
    "Now you should be ready to tackle [Lab 1](./lab_1_cleaning_up_the_MoMA_artwork.ipynb), which focuses on cleaning up the MoMA artwork file."
   ]
  }
 ],
 "metadata": {
  "kernelspec": {
   "display_name": "Python 3",
   "language": "python",
   "name": "python3"
  },
  "language_info": {
   "codemirror_mode": {
    "name": "ipython",
    "version": 3
   },
   "file_extension": ".py",
   "mimetype": "text/x-python",
   "name": "python",
   "nbconvert_exporter": "python",
   "pygments_lexer": "ipython3",
   "version": "3.7.6"
  },
  "varInspector": {
   "cols": {
    "lenName": 16,
    "lenType": 16,
    "lenVar": 40
   },
   "kernels_config": {
    "python": {
     "delete_cmd_postfix": "",
     "delete_cmd_prefix": "del ",
     "library": "var_list.py",
     "varRefreshCmd": "print(var_dic_list())"
    },
    "r": {
     "delete_cmd_postfix": ") ",
     "delete_cmd_prefix": "rm(",
     "library": "var_list.r",
     "varRefreshCmd": "cat(var_dic_list()) "
    }
   },
   "types_to_exclude": [
    "module",
    "function",
    "builtin_function_or_method",
    "instance",
    "_Feature"
   ],
   "window_display": false
  }
 },
 "nbformat": 4,
 "nbformat_minor": 2
}
